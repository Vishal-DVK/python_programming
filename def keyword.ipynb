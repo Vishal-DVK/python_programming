{
 "cells": [
  {
   "cell_type": "markdown",
   "id": "861b6480-ea54-4941-a13d-c0e11f133e40",
   "metadata": {},
   "source": [
    "### def --> Keyword used to define a function."
   ]
  },
  {
   "cell_type": "code",
   "execution_count": 1,
   "id": "ab01383e-ca39-4f85-a43b-a0144612b429",
   "metadata": {},
   "outputs": [
    {
     "data": {
      "text/plain": [
       "['False',\n",
       " 'None',\n",
       " 'True',\n",
       " 'and',\n",
       " 'as',\n",
       " 'assert',\n",
       " 'async',\n",
       " 'await',\n",
       " 'break',\n",
       " 'class',\n",
       " 'continue',\n",
       " 'def',\n",
       " 'del',\n",
       " 'elif',\n",
       " 'else',\n",
       " 'except',\n",
       " 'finally',\n",
       " 'for',\n",
       " 'from',\n",
       " 'global',\n",
       " 'if',\n",
       " 'import',\n",
       " 'in',\n",
       " 'is',\n",
       " 'lambda',\n",
       " 'nonlocal',\n",
       " 'not',\n",
       " 'or',\n",
       " 'pass',\n",
       " 'raise',\n",
       " 'return',\n",
       " 'try',\n",
       " 'while',\n",
       " 'with',\n",
       " 'yield']"
      ]
     },
     "execution_count": 1,
     "metadata": {},
     "output_type": "execute_result"
    }
   ],
   "source": [
    "import keyword\n",
    "keyword.kwlist"
   ]
  },
  {
   "cell_type": "code",
   "execution_count": 2,
   "id": "2f572952-32ca-4cc8-88eb-a6c9e3bdf663",
   "metadata": {},
   "outputs": [],
   "source": [
    "def greet():\n",
    "    print(\"hello\")\n",
    "    print(\"Good Morning\")\n"
   ]
  },
  {
   "cell_type": "code",
   "execution_count": 3,
   "id": "a1d4a691-278e-4ec0-814c-7588168c05e5",
   "metadata": {},
   "outputs": [
    {
     "name": "stdout",
     "output_type": "stream",
     "text": [
      "Hello\n",
      "Good morning\n"
     ]
    }
   ],
   "source": [
    "def greet():\n",
    "    print(\"Hello\")\n",
    "    print(\"Good morning\")\n",
    "greet()"
   ]
  },
  {
   "cell_type": "code",
   "execution_count": 4,
   "id": "63a8137f-46a4-4edc-9b72-cfe49bcc04f1",
   "metadata": {},
   "outputs": [
    {
     "name": "stdout",
     "output_type": "stream",
     "text": [
      "HI\n",
      "Hello\n"
     ]
    }
   ],
   "source": [
    "def greet():\n",
    "    print(\"HI\")\n",
    "    def wish():\n",
    "        print(\"Hello\")\n",
    "    wish()\n",
    "greet()"
   ]
  },
  {
   "cell_type": "code",
   "execution_count": 5,
   "id": "2ae1bb1d-5987-4d9a-a0d7-309638e5e382",
   "metadata": {},
   "outputs": [
    {
     "name": "stdout",
     "output_type": "stream",
     "text": [
      "Hello\n",
      "Naresh IT\n",
      "Hello\n",
      "Naresh IT\n"
     ]
    }
   ],
   "source": [
    "def greet():\n",
    "    print(\"Hello\")\n",
    "    print(\"Naresh IT\")\n",
    "greet()\n",
    "\n",
    "def greet():\n",
    "    print(\"Hello\")\n",
    "    print(\"Naresh IT\")\n",
    "greet()"
   ]
  },
  {
   "cell_type": "code",
   "execution_count": 6,
   "id": "2c08e70c-67e5-4f84-9666-77fd836fceb6",
   "metadata": {},
   "outputs": [
    {
     "name": "stdout",
     "output_type": "stream",
     "text": [
      "Hello\n",
      "Naresh IT\n",
      "\n",
      "Hello\n",
      "Naresh IT\n"
     ]
    }
   ],
   "source": [
    "def greet():\n",
    "    print(\"Hello\")\n",
    "    print(\"Naresh IT\")\n",
    "greet()\n",
    "\n",
    "print()\n",
    "\n",
    "def greet():\n",
    "    print(\"Hello\")\n",
    "    print(\"Naresh IT\")\n",
    "greet()"
   ]
  },
  {
   "cell_type": "code",
   "execution_count": 7,
   "id": "38d4a4da-4760-4e91-81ad-0ad6bb41502e",
   "metadata": {},
   "outputs": [
    {
     "name": "stdout",
     "output_type": "stream",
     "text": [
      "Hello\n",
      "Naresh IT\n",
      "$$$$$$$$$$\n",
      "Hello\n",
      "Naresh IT\n"
     ]
    }
   ],
   "source": [
    "def greet():\n",
    "    print(\"Hello\")\n",
    "    print(\"Naresh IT\")\n",
    "greet()\n",
    "\n",
    "print('$$$$$$$$$$')\n",
    "\n",
    "def greet():\n",
    "    print(\"Hello\")\n",
    "    print(\"Naresh IT\")\n",
    "greet()"
   ]
  },
  {
   "cell_type": "code",
   "execution_count": null,
   "id": "e3bb337e-d404-4557-a186-9262022d6fc3",
   "metadata": {},
   "outputs": [],
   "source": []
  },
  {
   "cell_type": "code",
   "execution_count": 8,
   "id": "09930ee2-b26e-4875-a8a3-41ad0006102c",
   "metadata": {},
   "outputs": [
    {
     "name": "stdout",
     "output_type": "stream",
     "text": [
      "7\n"
     ]
    }
   ],
   "source": [
    "def add(x,y):\n",
    "    c=x+y\n",
    "    print(c)\n",
    "add(5,2)"
   ]
  },
  {
   "cell_type": "code",
   "execution_count": 9,
   "id": "4e45f986-59bb-4209-a965-b2e3213bf387",
   "metadata": {},
   "outputs": [
    {
     "name": "stdout",
     "output_type": "stream",
     "text": [
      "10\n"
     ]
    }
   ],
   "source": [
    "def mul(x,y):\n",
    "    c=x*y\n",
    "    print(c)\n",
    "mul(5,2)"
   ]
  },
  {
   "cell_type": "code",
   "execution_count": 10,
   "id": "520df464-9532-46b0-b3e2-dd5642c3e8a8",
   "metadata": {},
   "outputs": [
    {
     "name": "stdout",
     "output_type": "stream",
     "text": [
      "12\n"
     ]
    }
   ],
   "source": [
    "def add(x,y):\n",
    "    c = x + y\n",
    "    print(c)\n",
    "add(2,10)"
   ]
  },
  {
   "cell_type": "code",
   "execution_count": 11,
   "id": "7e57fd1c-3c58-4432-9329-aee6c8225286",
   "metadata": {},
   "outputs": [
    {
     "name": "stdout",
     "output_type": "stream",
     "text": [
      "hi\n",
      "naresh IT\n",
      "13\n"
     ]
    }
   ],
   "source": [
    "def greet():\n",
    "    print(\"hi\")\n",
    "    print(\"naresh IT\")\n",
    "greet()\n",
    "\n",
    "def add(b,c):\n",
    "    a = b + c\n",
    "    print(a)\n",
    "add(5,8)\n",
    "    "
   ]
  },
  {
   "cell_type": "code",
   "execution_count": 12,
   "id": "7bbdc165-1ca0-43de-b2cb-b2e73b40c0a9",
   "metadata": {},
   "outputs": [
    {
     "name": "stdout",
     "output_type": "stream",
     "text": [
      "hi\n",
      "naresh IT\n",
      "--------\n",
      "9\n"
     ]
    }
   ],
   "source": [
    "def greet():\n",
    "    print(\"hi\")\n",
    "    print(\"naresh IT\")\n",
    "def add(b,c):\n",
    "    a = b + c\n",
    "    print(a)\n",
    "\n",
    "greet()\n",
    "print('--------')\n",
    "add(3,6)"
   ]
  },
  {
   "cell_type": "code",
   "execution_count": 13,
   "id": "3358958b-629c-47d3-9dd4-6f96d82fe8fe",
   "metadata": {},
   "outputs": [
    {
     "data": {
      "text/plain": [
       "14"
      ]
     },
     "execution_count": 13,
     "metadata": {},
     "output_type": "execute_result"
    }
   ],
   "source": [
    "# return ----> instead of print function we can use return\n",
    "def add(a,b):\n",
    "    x = a + b\n",
    "    return x\n",
    "add(6,8)\n",
    "    "
   ]
  },
  {
   "cell_type": "code",
   "execution_count": 14,
   "id": "e2e061f1-3a9b-436b-89af-ec0cb9867969",
   "metadata": {},
   "outputs": [
    {
     "name": "stdout",
     "output_type": "stream",
     "text": [
      "hi\n",
      "Naresh IT\n"
     ]
    },
    {
     "data": {
      "text/plain": [
       "12"
      ]
     },
     "execution_count": 14,
     "metadata": {},
     "output_type": "execute_result"
    }
   ],
   "source": [
    "def greet():\n",
    "    print(\"hi\")\n",
    "    print('Naresh IT')\n",
    "\n",
    "def add(b,c):\n",
    "    a = b + c\n",
    "    return a\n",
    "\n",
    "def sub(x,y):\n",
    "    z = x - y\n",
    "    return z\n",
    "\n",
    "def mul(x,y):\n",
    "    z = x * y\n",
    "    return z\n",
    "\n",
    "greet()\n",
    "add(2,9)\n",
    "sub(8,3)\n",
    "mul(3,4)    "
   ]
  },
  {
   "cell_type": "code",
   "execution_count": 15,
   "id": "4465951c-c268-402a-9e86-e58221d20fc9",
   "metadata": {},
   "outputs": [
    {
     "name": "stdout",
     "output_type": "stream",
     "text": [
      "hi\n",
      "Naresh IT\n",
      "11\n",
      "5\n"
     ]
    },
    {
     "data": {
      "text/plain": [
       "12"
      ]
     },
     "execution_count": 15,
     "metadata": {},
     "output_type": "execute_result"
    }
   ],
   "source": [
    "def greet():\n",
    "    print(\"hi\")\n",
    "    print('Naresh IT')\n",
    "\n",
    "def add(b,c):\n",
    "    a = b + c\n",
    "    return a\n",
    "\n",
    "def sub(x,y):\n",
    "    z = x - y\n",
    "    return z\n",
    "\n",
    "def mul(x,y):\n",
    "    z = x * y\n",
    "    return z\n",
    "\n",
    "greet()\n",
    "print(add(2,9))\n",
    "print(sub(8,3))\n",
    "mul(3,4)    "
   ]
  },
  {
   "cell_type": "code",
   "execution_count": 16,
   "id": "ea1a39a1-7ec2-4c03-91df-01996cd07d80",
   "metadata": {},
   "outputs": [
    {
     "name": "stdout",
     "output_type": "stream",
     "text": [
      "(8, 2)\n",
      "<class 'tuple'>\n"
     ]
    }
   ],
   "source": [
    "# what if i want to return 2 values add_sub & i want to return 2 values & function can accept multiple value\n",
    "def add_sub(x,y):\n",
    "    a = x + y\n",
    "    z = x - y\n",
    "    return a,z\n",
    "result = add_sub(5,3)\n",
    "\n",
    "print(result)\n",
    "print(type(result))"
   ]
  },
  {
   "cell_type": "code",
   "execution_count": 17,
   "id": "a147d253-d787-4ce1-b36e-79ddf56cfc47",
   "metadata": {},
   "outputs": [
    {
     "data": {
      "text/plain": [
       "(8, 2)"
      ]
     },
     "execution_count": 17,
     "metadata": {},
     "output_type": "execute_result"
    }
   ],
   "source": [
    "def add_sub(x,y):\n",
    "    a = x + y\n",
    "    z = x - y\n",
    "    return a,z\n",
    "add_sub(5,3)"
   ]
  },
  {
   "cell_type": "code",
   "execution_count": 18,
   "id": "db0589db-1688-47bb-9028-2110d591f0df",
   "metadata": {},
   "outputs": [
    {
     "name": "stdout",
     "output_type": "stream",
     "text": [
      "8 2\n",
      "<class 'int'>\n",
      "<class 'int'>\n"
     ]
    }
   ],
   "source": [
    "def add_sub(x,y):\n",
    "    a = x + y\n",
    "    z = x - y\n",
    "    return a,z\n",
    "\n",
    "res1,res2 = add_sub(5,3)\n",
    "\n",
    "print(res1,res2)\n",
    "print(type(res1))\n",
    "print(type(res2))"
   ]
  },
  {
   "cell_type": "code",
   "execution_count": null,
   "id": "1ccabdc7-b5d5-4eef-a4c0-8cd74c7859ca",
   "metadata": {},
   "outputs": [],
   "source": []
  }
 ],
 "metadata": {
  "kernelspec": {
   "display_name": "Python 3 (ipykernel)",
   "language": "python",
   "name": "python3"
  },
  "language_info": {
   "codemirror_mode": {
    "name": "ipython",
    "version": 3
   },
   "file_extension": ".py",
   "mimetype": "text/x-python",
   "name": "python",
   "nbconvert_exporter": "python",
   "pygments_lexer": "ipython3",
   "version": "3.12.7"
  }
 },
 "nbformat": 4,
 "nbformat_minor": 5
}
